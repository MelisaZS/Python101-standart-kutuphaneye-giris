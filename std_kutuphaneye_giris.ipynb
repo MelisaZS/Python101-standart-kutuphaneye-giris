{
 "cells": [
  {
   "cell_type": "markdown",
   "id": "c7504deb-a842-41d3-a9a5-acd912288cff",
   "metadata": {},
   "source": [
    "# Python Standart Kütüphaneye Giriş\n"
   ]
  },
  {
   "cell_type": "markdown",
   "id": "d37015fe-1cd4-478e-a44d-9220c6459b56",
   "metadata": {},
   "source": [
    "### Standart kütüphane, geniş bir yazılım deposudur. Bu depo içindeki her bir yazılıma modül adı verilir."
   ]
  },
  {
   "cell_type": "code",
   "execution_count": 2,
   "id": "f5c9eca7-4e93-4263-b4b3-e200c834bd91",
   "metadata": {},
   "outputs": [],
   "source": [
    "#Örnek 1\n",
    "import platform # platform adlı standart kütüphane modülünü içe aktarmış yani tüm içierğini programımıza dahil etmiş olduk.\n"
   ]
  },
  {
   "cell_type": "code",
   "execution_count": 4,
   "id": "3a9d300b-b5cc-4dd4-b1a8-b52e5f3b616b",
   "metadata": {},
   "outputs": [
    {
     "data": {
      "text/plain": [
       "['AndroidVer',\n",
       " 'IOSVersionInfo',\n",
       " '_Processor',\n",
       " '_WIN32_CLIENT_RELEASES',\n",
       " '_WIN32_SERVER_RELEASES',\n",
       " '__builtins__',\n",
       " '__cached__',\n",
       " '__copyright__',\n",
       " '__doc__',\n",
       " '__file__',\n",
       " '__loader__',\n",
       " '__name__',\n",
       " '__package__',\n",
       " '__spec__',\n",
       " '__version__',\n",
       " '_comparable_version',\n",
       " '_default_architecture',\n",
       " '_follow_symlinks',\n",
       " '_get_machine_win32',\n",
       " '_java_getprop',\n",
       " '_mac_ver_xml',\n",
       " '_node',\n",
       " '_norm_version',\n",
       " '_os_release_cache',\n",
       " '_os_release_candidates',\n",
       " '_parse_os_release',\n",
       " '_platform',\n",
       " '_platform_cache',\n",
       " '_sys_version',\n",
       " '_sys_version_cache',\n",
       " '_syscmd_file',\n",
       " '_syscmd_ver',\n",
       " '_uname_cache',\n",
       " '_unknown_as_blank',\n",
       " '_ver_stages',\n",
       " '_win32_ver',\n",
       " '_wmi',\n",
       " '_wmi_query',\n",
       " 'android_ver',\n",
       " 'architecture',\n",
       " 'collections',\n",
       " 'freedesktop_os_release',\n",
       " 'functools',\n",
       " 'ios_ver',\n",
       " 'itertools',\n",
       " 'java_ver',\n",
       " 'libc_ver',\n",
       " 'mac_ver',\n",
       " 'machine',\n",
       " 'node',\n",
       " 'os',\n",
       " 'platform',\n",
       " 'processor',\n",
       " 'python_branch',\n",
       " 'python_build',\n",
       " 'python_compiler',\n",
       " 'python_implementation',\n",
       " 'python_revision',\n",
       " 'python_version',\n",
       " 'python_version_tuple',\n",
       " 're',\n",
       " 'release',\n",
       " 'sys',\n",
       " 'system',\n",
       " 'system_alias',\n",
       " 'uname',\n",
       " 'uname_result',\n",
       " 'version',\n",
       " 'win32_edition',\n",
       " 'win32_is_iot',\n",
       " 'win32_ver']"
      ]
     },
     "execution_count": 4,
     "metadata": {},
     "output_type": "execute_result"
    }
   ],
   "source": [
    "dir(platform) #bu dir fonksiyonu, herhangi bir modülün içeriğini sorgulamaya yarar. Biz platformu sorguladık."
   ]
  },
  {
   "cell_type": "code",
   "execution_count": 6,
   "id": "ee4802ee-4a85-4eb3-927c-30648f7cba09",
   "metadata": {},
   "outputs": [
    {
     "data": {
      "text/plain": [
       "'Windows'"
      ]
     },
     "execution_count": 6,
     "metadata": {},
     "output_type": "execute_result"
    }
   ],
   "source": [
    "platform.system() # platform bir modül, system ise bir fonksiyondur. aralarına nokta işareti konarak ayrılır. bu komut sayesinde işletim sistemini verir."
   ]
  },
  {
   "cell_type": "code",
   "execution_count": 7,
   "id": "bf09f164-cc96-4251-966a-35f4b41bc568",
   "metadata": {},
   "outputs": [
    {
     "data": {
      "text/plain": [
       "'3.13.5'"
      ]
     },
     "execution_count": 7,
     "metadata": {},
     "output_type": "execute_result"
    }
   ],
   "source": [
    "platform.python_version() # bu sayede  işletim sistemimizdeki python sürümünü denetlemiş oluruz."
   ]
  },
  {
   "cell_type": "code",
   "execution_count": 8,
   "id": "ed3aa635-9c08-4b62-ab89-853fc11f44f0",
   "metadata": {},
   "outputs": [
    {
     "data": {
      "text/plain": [
       "('3', '13', '5')"
      ]
     },
     "execution_count": 8,
     "metadata": {},
     "output_type": "execute_result"
    }
   ],
   "source": [
    "platform.python_version_tuple() # tuple demet demektir. bu komut, sürümün numaralarını parantez içinde birbirinden virgülle ayırır."
   ]
  },
  {
   "cell_type": "code",
   "execution_count": 10,
   "id": "ad466252-b912-40b7-ad6c-0a9b171b64cc",
   "metadata": {},
   "outputs": [
    {
     "data": {
      "text/plain": [
       "('3', '13', '5')"
      ]
     },
     "execution_count": 10,
     "metadata": {},
     "output_type": "execute_result"
    }
   ],
   "source": [
    "sürüm = platform.python_version_tuple() # platform modülünün python_version_tuple() fonksiyonunu sürüm adlı değişkene atadık.\n",
    "sürüm"
   ]
  },
  {
   "cell_type": "code",
   "execution_count": 22,
   "id": "436bcfac-c035-457d-a8f3-d3e7a1d4dcdc",
   "metadata": {},
   "outputs": [
    {
     "data": {
      "text/plain": [
       "'3'"
      ]
     },
     "execution_count": 22,
     "metadata": {},
     "output_type": "execute_result"
    }
   ],
   "source": [
    "büyük, küçük, minik = platform.python_version_tuple() #dilimledik\n",
    "büyük"
   ]
  },
  {
   "cell_type": "code",
   "execution_count": 23,
   "id": "05cb5888-ef98-4b49-9642-b17cfd3a215c",
   "metadata": {},
   "outputs": [
    {
     "data": {
      "text/plain": [
       "'13'"
      ]
     },
     "execution_count": 23,
     "metadata": {},
     "output_type": "execute_result"
    }
   ],
   "source": [
    "küçük"
   ]
  },
  {
   "cell_type": "code",
   "execution_count": 24,
   "id": "a3ff9bba-67a4-4e3f-8c1d-cc1ca413d9d8",
   "metadata": {},
   "outputs": [
    {
     "data": {
      "text/plain": [
       "'5'"
      ]
     },
     "execution_count": 24,
     "metadata": {},
     "output_type": "execute_result"
    }
   ],
   "source": [
    "minik"
   ]
  },
  {
   "cell_type": "code",
   "execution_count": 27,
   "id": "c4effecb-7364-4a27-8edf-8a88d2fcb034",
   "metadata": {},
   "outputs": [
    {
     "data": {
      "text/plain": [
       "'3'"
      ]
     },
     "execution_count": 27,
     "metadata": {},
     "output_type": "execute_result"
    }
   ],
   "source": [
    "büyük, *gerisi = platform.python_version_tuple() #* yıldızlı ifadeler dilimlemeyi sadeleştirebilir.\n",
    "büyük"
   ]
  },
  {
   "cell_type": "code",
   "execution_count": 34,
   "id": "d9252684-1bef-43c5-ae0a-c3325f7ba691",
   "metadata": {},
   "outputs": [
    {
     "data": {
      "text/plain": [
       "('13', '5')"
      ]
     },
     "execution_count": 34,
     "metadata": {},
     "output_type": "execute_result"
    }
   ],
   "source": [
    "gerisi #yıldızlı ifade sonucunda list halinde çıktı geldi."
   ]
  },
  {
   "cell_type": "code",
   "execution_count": 35,
   "id": "35922c0c-fc90-4af8-b30f-68d5c8342eec",
   "metadata": {},
   "outputs": [
    {
     "data": {
      "text/plain": [
       "'3'"
      ]
     },
     "execution_count": 35,
     "metadata": {},
     "output_type": "execute_result"
    }
   ],
   "source": [
    "#dilimleme yöntemiyle \n",
    "sürüm = platform.python_version_tuple()\n",
    "büyük, gerisi = sürüm[0], sürüm[1:] #sürüm 0->3 , sürüm 1->11\n",
    "büyük\n"
   ]
  },
  {
   "cell_type": "code",
   "execution_count": 36,
   "id": "bd025dbd-f45a-4d2a-88df-986519cd9d09",
   "metadata": {},
   "outputs": [
    {
     "data": {
      "text/plain": [
       "('13', '5')"
      ]
     },
     "execution_count": 36,
     "metadata": {},
     "output_type": "execute_result"
    }
   ],
   "source": [
    "gerisi #dilimleme sayesinde demet halinde çıktı geldi"
   ]
  },
  {
   "cell_type": "code",
   "execution_count": 37,
   "id": "20865199-6232-4f54-8f38-82657a4b40de",
   "metadata": {},
   "outputs": [
    {
     "data": {
      "text/plain": [
       "uname_result(system='Windows', node='Melisa', release='11', version='10.0.26100', machine='AMD64')"
      ]
     },
     "execution_count": 37,
     "metadata": {},
     "output_type": "execute_result"
    }
   ],
   "source": [
    "platform.uname() #kullandığımız şletim sistemiyle ilgili birden fazla bilgiyi bir arada veren bir başka öğe ise uname() adlı fonksiyondur"
   ]
  },
  {
   "cell_type": "code",
   "execution_count": 38,
   "id": "ff7105cb-0ec2-4169-8b73-0d9d4c2b3393",
   "metadata": {},
   "outputs": [
    {
     "data": {
      "text/plain": [
       "'Windows'"
      ]
     },
     "execution_count": 38,
     "metadata": {},
     "output_type": "execute_result"
    }
   ],
   "source": [
    "un= platform.uname()\n",
    "un.system"
   ]
  },
  {
   "cell_type": "code",
   "execution_count": 39,
   "id": "8e32fde0-c0aa-4fe4-b971-ea5af925b7c6",
   "metadata": {},
   "outputs": [
    {
     "data": {
      "text/plain": [
       "'11'"
      ]
     },
     "execution_count": 39,
     "metadata": {},
     "output_type": "execute_result"
    }
   ],
   "source": [
    "un.release"
   ]
  },
  {
   "cell_type": "code",
   "execution_count": 40,
   "id": "c4deb608-27c3-4d60-8990-feaa5126b85b",
   "metadata": {},
   "outputs": [
    {
     "data": {
      "text/plain": [
       "'AMD64'"
      ]
     },
     "execution_count": 40,
     "metadata": {},
     "output_type": "execute_result"
    }
   ],
   "source": [
    "un.machine"
   ]
  },
  {
   "cell_type": "code",
   "execution_count": 41,
   "id": "9ef8b8b2-d291-4349-b5e9-019a329d70cc",
   "metadata": {},
   "outputs": [
    {
     "data": {
      "text/plain": [
       "'Intel64 Family 6 Model 183 Stepping 1, GenuineIntel'"
      ]
     },
     "execution_count": 41,
     "metadata": {},
     "output_type": "execute_result"
    }
   ],
   "source": [
    "un.processor"
   ]
  },
  {
   "cell_type": "code",
   "execution_count": 45,
   "id": "e109fecf-fe04-42d9-aaa9-08b92dec9eec",
   "metadata": {},
   "outputs": [
    {
     "data": {
      "text/plain": [
       "'Windows'"
      ]
     },
     "execution_count": 45,
     "metadata": {},
     "output_type": "execute_result"
    }
   ],
   "source": [
    "#tıpkı python_version_tuple() fonksiyonunda yaptığımız gibi burada da her bir ögeyi farklı bir değişkene atayabiliriz\n",
    "system, node, release, version, machine, processor= platform.uname()\n",
    "system"
   ]
  },
  {
   "cell_type": "code",
   "execution_count": 46,
   "id": "e6911582-bb27-4e49-89d6-204d31079ebc",
   "metadata": {},
   "outputs": [
    {
     "data": {
      "text/plain": [
       "'Melisa'"
      ]
     },
     "execution_count": 46,
     "metadata": {},
     "output_type": "execute_result"
    }
   ],
   "source": [
    "node"
   ]
  },
  {
   "cell_type": "code",
   "execution_count": 47,
   "id": "a3aa7d23-c1f7-46e9-b214-70442ae7d8a9",
   "metadata": {},
   "outputs": [
    {
     "data": {
      "text/plain": [
       "'11'"
      ]
     },
     "execution_count": 47,
     "metadata": {},
     "output_type": "execute_result"
    }
   ],
   "source": [
    "release"
   ]
  },
  {
   "cell_type": "code",
   "execution_count": 48,
   "id": "1b9e857f-bc42-409f-954c-3ba8098e5e0e",
   "metadata": {},
   "outputs": [
    {
     "data": {
      "text/plain": [
       "'10.0.26100'"
      ]
     },
     "execution_count": 48,
     "metadata": {},
     "output_type": "execute_result"
    }
   ],
   "source": [
    "version"
   ]
  },
  {
   "cell_type": "code",
   "execution_count": 49,
   "id": "097adc37-92c9-4278-a2a5-13314c19fb97",
   "metadata": {},
   "outputs": [
    {
     "data": {
      "text/plain": [
       "'AMD64'"
      ]
     },
     "execution_count": 49,
     "metadata": {},
     "output_type": "execute_result"
    }
   ],
   "source": [
    "machine"
   ]
  },
  {
   "cell_type": "code",
   "execution_count": 50,
   "id": "732b4d5e-965e-4135-a6c2-306060c885ca",
   "metadata": {},
   "outputs": [
    {
     "data": {
      "text/plain": [
       "'Intel64 Family 6 Model 183 Stepping 1, GenuineIntel'"
      ]
     },
     "execution_count": 50,
     "metadata": {},
     "output_type": "execute_result"
    }
   ],
   "source": [
    "processor"
   ]
  },
  {
   "cell_type": "code",
   "execution_count": 53,
   "id": "f5bca097-50f5-4ced-92ea-373c94368718",
   "metadata": {},
   "outputs": [
    {
     "data": {
      "text/plain": [
       "'Windows'"
      ]
     },
     "execution_count": 53,
     "metadata": {},
     "output_type": "execute_result"
    }
   ],
   "source": [
    "sistem, *ayrıntı =platform.uname() #yıldızlı ifade ile ayrımak istersek\n",
    "sistem"
   ]
  },
  {
   "cell_type": "code",
   "execution_count": 54,
   "id": "8f058684-093a-4006-87ab-0bd218661a3c",
   "metadata": {},
   "outputs": [
    {
     "data": {
      "text/plain": [
       "['Melisa',\n",
       " '11',\n",
       " '10.0.26100',\n",
       " 'AMD64',\n",
       " 'Intel64 Family 6 Model 183 Stepping 1, GenuineIntel']"
      ]
     },
     "execution_count": 54,
     "metadata": {},
     "output_type": "execute_result"
    }
   ],
   "source": [
    "ayrıntı"
   ]
  },
  {
   "cell_type": "code",
   "execution_count": 55,
   "id": "3684da09-3fa8-437f-8578-5b5bd4474360",
   "metadata": {},
   "outputs": [
    {
     "data": {
      "text/plain": [
       "'Windows'"
      ]
     },
     "execution_count": 55,
     "metadata": {},
     "output_type": "execute_result"
    }
   ],
   "source": [
    "#şimdi de dilimleme yöntemiyle yapalım\n",
    "un = platform.uname()\n",
    "ssitem, ayrıntı = un[0], un[1:]\n",
    "sistem"
   ]
  },
  {
   "cell_type": "code",
   "execution_count": 56,
   "id": "b917443b-089b-4ba3-80cc-5b8319dffb78",
   "metadata": {},
   "outputs": [
    {
     "data": {
      "text/plain": [
       "('Melisa',\n",
       " '11',\n",
       " '10.0.26100',\n",
       " 'AMD64',\n",
       " 'Intel64 Family 6 Model 183 Stepping 1, GenuineIntel')"
      ]
     },
     "execution_count": 56,
     "metadata": {},
     "output_type": "execute_result"
    }
   ],
   "source": [
    "ayrıntı"
   ]
  },
  {
   "cell_type": "code",
   "execution_count": null,
   "id": "c53dfde3-7572-4206-8609-fb891e648cbb",
   "metadata": {},
   "outputs": [],
   "source": []
  }
 ],
 "metadata": {
  "kernelspec": {
   "display_name": "Python [conda env:base] *",
   "language": "python",
   "name": "conda-base-py"
  },
  "language_info": {
   "codemirror_mode": {
    "name": "ipython",
    "version": 3
   },
   "file_extension": ".py",
   "mimetype": "text/x-python",
   "name": "python",
   "nbconvert_exporter": "python",
   "pygments_lexer": "ipython3",
   "version": "3.13.5"
  }
 },
 "nbformat": 4,
 "nbformat_minor": 5
}
