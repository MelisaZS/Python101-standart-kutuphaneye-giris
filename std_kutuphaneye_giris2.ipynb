{
 "cells": [
  {
   "cell_type": "markdown",
   "id": "02821892-de89-4ca6-ac7b-b23928926e9e",
   "metadata": {},
   "source": [
    "# Standart Kütüphaneye Giriş 2"
   ]
  },
  {
   "cell_type": "code",
   "execution_count": 5,
   "id": "d2ac2964-07b9-48f3-9012-2657c0ee10bb",
   "metadata": {},
   "outputs": [
    {
     "name": "stdout",
     "output_type": "stream",
     "text": [
      "İşletim sistemi adı: Windows\n",
      "İşletim sistemi sürümü: 11\n",
      "İşlemci mimarisi AMD64\n",
      "İşlemci: Intel64 Family 6 Model 183 Stepping 1, GenuineIntel\n",
      "Python sürümü: 3.13.5\n"
     ]
    },
    {
     "data": {
      "text/plain": [
       "'3.13.5'"
      ]
     },
     "execution_count": 5,
     "metadata": {},
     "output_type": "execute_result"
    }
   ],
   "source": [
    "#kısa bir program yazacağız.\n",
    "import platform\n",
    "\n",
    "print(\"İşletim sistemi adı:\", platform.system())\n",
    "print(\"İşletim sistemi sürümü:\",platform.release())\n",
    "print(\"İşlemci mimarisi\", platform.machine())\n",
    "print(\"İşlemci:\",platform.processor())\n",
    "print(\"Python sürümü:\", platform.python_version())\n",
    "platform.system()\n",
    "platform.release()\n",
    "platform.machine()\n",
    "platform.processor()\n",
    "platform.python_version()"
   ]
  },
  {
   "cell_type": "code",
   "execution_count": 6,
   "id": "df953e02-f788-4858-baf0-dd41d82c2159",
   "metadata": {},
   "outputs": [
    {
     "name": "stdout",
     "output_type": "stream",
     "text": [
      "İşletim sistemi adı: Windows\n",
      "İşletim sistemi sürümü: 11\n",
      "İşlemci mimarisi:  AMD64\n",
      "İşlemci: Intel64 Family 6 Model 183 Stepping 1, GenuineIntel\n",
      "Python sürümü: 3.13.5\n"
     ]
    }
   ],
   "source": [
    "#isterseniz böyle de yazbilirsiniz\n",
    "\n",
    "import platform\n",
    "\n",
    "sistem = platform.system()\n",
    "sürüm = platform.release()\n",
    "mimari = platform.machine()\n",
    "işlemci = platform.processor()\n",
    "py_sürüm = platform.python_version()\n",
    "\n",
    "print(\"İşletim sistemi adı:\" , sistem)\n",
    "print(\"İşletim sistemi sürümü:\" , sürüm)\n",
    "print(\"İşlemci mimarisi: \", mimari)\n",
    "print(\"İşlemci:\", işlemci)\n",
    "print(\"Python sürümü:\" , py_sürüm)"
   ]
  },
  {
   "cell_type": "code",
   "execution_count": 7,
   "id": "f0c6de68-ce61-4184-9b8f-923048783409",
   "metadata": {},
   "outputs": [
    {
     "name": "stdout",
     "output_type": "stream",
     "text": [
      "İşletim sistemi adı: , Windows\n",
      "İşletim sistemi sürümü: , 11\n",
      "İşlemci mimarisi: , AMD64\n",
      "İşlemci: , Intel64 Family 6 Model 183 Stepping 1, GenuineIntel\n",
      "Python sürümü: , 3.13.5\n"
     ]
    }
   ],
   "source": [
    "#isterseniz f li karakter dizileri içine de gömebilirsiniz.\n",
    "\n",
    "import platform\n",
    "\n",
    "sistem = platform.system()\n",
    "sürüm = platform.release()\n",
    "mimari = platform.machine()\n",
    "işlemci = platform.processor()\n",
    "py_sürüm = platform.python_version()\n",
    "\n",
    "print(f\"İşletim sistemi adı: , {sistem}\")\n",
    "print(f\"İşletim sistemi sürümü: , {sürüm}\")\n",
    "print(f\"İşlemci mimarisi: , {mimari}\")\n",
    "print(f\"İşlemci: , {işlemci}\")\n",
    "print(f\"Python sürümü: , {py_sürüm}\")"
   ]
  }
 ],
 "metadata": {
  "kernelspec": {
   "display_name": "Python [conda env:base] *",
   "language": "python",
   "name": "conda-base-py"
  },
  "language_info": {
   "codemirror_mode": {
    "name": "ipython",
    "version": 3
   },
   "file_extension": ".py",
   "mimetype": "text/x-python",
   "name": "python",
   "nbconvert_exporter": "python",
   "pygments_lexer": "ipython3",
   "version": "3.13.5"
  }
 },
 "nbformat": 4,
 "nbformat_minor": 5
}
